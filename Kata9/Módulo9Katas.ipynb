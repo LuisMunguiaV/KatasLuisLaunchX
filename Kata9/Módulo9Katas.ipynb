{
  "cells": [
    {
      "cell_type": "markdown",
      "metadata": {},
      "source": [
        "# Ejercicio: Uso de funciones en Python"
      ]
    },
    {
      "cell_type": "markdown",
      "metadata": {},
      "source": [
        "### Ejercicio 1: Trabajar con argumentos en funciones\n",
        "\n",
        "Los argumentos requeridos en las funciones se utilizan cuando las funciones necesitan que esos argumentos funcionen correctamente. En este ejercicio, construirás un informe de combustible que requiere información de varias ubicaciones de combustible en todo el cohete.\n",
        "\n"
      ]
    },
    {
      "cell_type": "markdown",
      "metadata": {},
      "source": [
        "> **TIP**\n",
        "> Dedica unos minutos para tratar de encontrar una solución. Luego desplázate hacia abajo hasta la parte inferior para ver si has logrado compilar el programa de acuerdo con las especificaciones\n",
        "\n",
        "Comienza por crear una función que necesite tres lecturas de combustible y devuelva un informe:"
      ]
    },
    {
      "cell_type": "code",
      "execution_count": 20,
      "metadata": {},
      "outputs": [],
      "source": [
        "# Función para leer 3 tanques de combustible y muestre el promedio\n",
        "t1= 80 #%\n",
        "t2= 30 #%\n",
        "t3= 15 #%\n",
        "def informe_combustible(t1,t2,t3):\n",
        "    promedio = (t1 + t2 + t3) / 3\n",
        "    return f\"\"\"Informe:\n",
        "    Promedio de combustible: {promedio}%\n",
        "    ------------------------------------\n",
        "    Tanque 1: {t1}%\n",
        "    Tanque 2: {t2}%\n",
        "    Tanque 3: {t3}% \n",
        "    \"\"\"\n",
        "    \n",
        "#print(f\"{t1},{t2},{t3}\")\n"
      ]
    },
    {
      "cell_type": "markdown",
      "metadata": {},
      "source": [
        "Ahora que hemos definido la función de informes, vamos a comprobarlo. Para esta misión, los tanques no están llenos:"
      ]
    },
    {
      "cell_type": "code",
      "execution_count": 21,
      "metadata": {},
      "outputs": [
        {
          "name": "stdout",
          "output_type": "stream",
          "text": [
            "Informe:\n",
            "    Promedio de combustible: 44.333333333333336%\n",
            "    ------------------------------------\n",
            "    Tanque 1: 88%\n",
            "    Tanque 2: 30%\n",
            "    Tanque 3: 15% \n",
            "    \n"
          ]
        }
      ],
      "source": [
        "\n",
        "# Llamamos a la función que genera el reporte print(funcion(tanque1, tanque2, tanque3))\n",
        "t1= 88 #%\n",
        "t2= 30 #%\n",
        "t3= 15 #%\n",
        "def informe_combustible(t1,t2,t3):\n",
        "    promedio = (t1 + t2 + t3) / 3\n",
        "    return f\"\"\"Informe:\n",
        "    Promedio de combustible: {promedio}%\n",
        "    ------------------------------------\n",
        "    Tanque 1: {t1}%\n",
        "    Tanque 2: {t2}%\n",
        "    Tanque 3: {t3}% \n",
        "    \"\"\"\n",
        "    \n",
        "print(informe_combustible(t1, t2, t3))"
      ]
    },
    {
      "cell_type": "markdown",
      "metadata": {},
      "source": [
        "En lugar de simplemente crear el informe, la función también está calculando el promedio. Mejora la legibilidad extrayendo el cálculo promedio de la función en una nueva función para que el promedio se pueda hacer de forma independiente:"
      ]
    },
    {
      "cell_type": "code",
      "execution_count": 27,
      "metadata": {},
      "outputs": [
        {
          "name": "stdout",
          "output_type": "stream",
          "text": [
            "44.333333333333336\n"
          ]
        }
      ],
      "source": [
        "# Función promedio \n",
        "t1= 88 #%\n",
        "t2= 30 #%\n",
        "t3= 15 #%\n",
        "def calculo_promedio(prom):\n",
        "    promedio = sum(prom) / len(prom)\n",
        "    return promedio\n",
        "\n",
        "print(calculo_promedio([t1, t2, t3]))"
      ]
    },
    {
      "cell_type": "markdown",
      "metadata": {},
      "source": [
        "Ahora actualiza la función de informes para llamando a la nueva función del promedio:\n"
      ]
    },
    {
      "cell_type": "code",
      "execution_count": 30,
      "metadata": {},
      "outputs": [
        {
          "name": "stdout",
          "output_type": "stream",
          "text": [
            "Informe de combustible:\n",
            "    Promedio de combustible: 44.333333333333336%\n",
            "    --------------------------------------------------------\n",
            "    Tanque 1: 88% \n",
            "    Tanque 2: 30% \n",
            "    Tanque 3: 15% ¡¡Cuidado!! Nivel de combustible bajo\n",
            "    \n"
          ]
        }
      ],
      "source": [
        "# Actualiza la función\n",
        "\n",
        "t1= 88 #%\n",
        "t2= 30 #%\n",
        "t3= 15 #%\n",
        "def calculo_promedio(prom):\n",
        "    promedio = sum(prom) / len(prom)\n",
        "    return promedio\n",
        "\n",
        "def informe_combustible(t1,t2,t3):\n",
        "    w1=w2=w3=''\n",
        "    if t1 <20:\n",
        "        w1=\"¡¡Cuidado!! Nivel de combustible bajo\"\n",
        "    elif t2 <20:\n",
        "        w2=\"¡¡Cuidado!! Nivel de combustible bajo\"\n",
        "    elif t3<20:\n",
        "        w3=\"¡¡Cuidado!! Nivel de combustible bajo\"\n",
        "\n",
        "\n",
        "    return f\"\"\"Informe de combustible:\n",
        "    Promedio de combustible: {calculo_promedio([t1,t2,t3])}%\n",
        "    --------------------------------------------------------\n",
        "    Tanque 1: {t1}% {w1}\n",
        "    Tanque 2: {t2}% {w2}\n",
        "    Tanque 3: {t3}% {w3}\n",
        "    \"\"\"\n",
        "\n",
        "print(informe_combustible(t1, t2, t3))"
      ]
    },
    {
      "cell_type": "markdown",
      "metadata": {},
      "source": [
        "> Recuerda: Lo importante es intentarlo, puedes auxiliarte de internet, libros, etc. El objetivo de una kata es la comprobación de la comprensión de la lección y su aplicación inmediata a la resolución de problemas. Go for it!"
      ]
    },
    {
      "cell_type": "markdown",
      "metadata": {},
      "source": [
        "## Ejercicio 2: Trabajo con argumentos de palabra clave"
      ]
    },
    {
      "cell_type": "markdown",
      "metadata": {},
      "source": [
        "### Ejercicio : Trabajar con argumentos de palabras clave en funciones\n",
        "En este ejercicio, construirás un informe de cohete que requiere varias piezas de información, como el tiempo hasta el destino, el combustible a la izquierda y el nombre del destino. Comienza por crear una función que creará un informe preciso de la misión:"
      ]
    },
    {
      "cell_type": "code",
      "execution_count": 45,
      "metadata": {},
      "outputs": [
        {
          "name": "stdout",
          "output_type": "stream",
          "text": [
            "\n",
            "    Tiempo hasta el destino: 1.5 horas\n",
            "    Hora Terrestre de llegada al destino: 13.5 horas\n",
            "    Combustible restante: 55.0 %\n",
            "    Destino: Luna\n",
            "    \n"
          ]
        }
      ],
      "source": [
        "# Función con un informe preciso de la misión. Considera hora de prelanzamiento, tiempo de vuelo, destino, tanque externo y tanque interno\n",
        "def informe_cohete(hora_prelanzamiento, tiempo_vuelo, destino, tanque_externo, tanque_interno):\n",
        "    return f\"\"\"\n",
        "    Tiempo hasta el destino: {tiempo_vuelo/60} horas\n",
        "    Hora Terrestre de llegada al destino: {hora_prelanzamiento + (tiempo_vuelo/60)} horas\n",
        "    Combustible restante: {((tanque_externo + tanque_interno)*100)/200} %\n",
        "    Destino: {destino}\n",
        "    \"\"\"\n",
        "\n",
        "print(informe_cohete(12, 90, \"Luna\", 80, 30))"
      ]
    },
    {
      "cell_type": "markdown",
      "metadata": {},
      "source": [
        "La función es problemática porque no se puede adaptar para minutos adicionales o tanques adicionales de combustible. Hazlo más flexible permitiendo cualquier número de pasos basados en el tiempo y cualquier número de tanques. En lugar de usar `*args` y `**kwargs`, aprovecha el hecho de que puedes usar cualquier nombre que desees. Asegurate que la función sea más legible mediante el uso de nombres de variables que están asociados con las entradas, como `*minutes` y `**fuel_reservoirs`:"
      ]
    },
    {
      "cell_type": "code",
      "execution_count": 50,
      "metadata": {},
      "outputs": [
        {
          "name": "stdout",
          "output_type": "stream",
          "text": [
            "\n",
            "    Tiempo hasta el destino: 1.5 horas\n",
            "    Hora Terrestre de llegada al destino: 2.3666666666666667 horas\n",
            "    Tiempo añadido: 0.6666666666666666 horas\n",
            "    Combustible restante: 55.0 %\n",
            "    Destino: Luna\n",
            "    \n"
          ]
        }
      ],
      "source": [
        "# Escribe tu nueva función de reporte considerando lo anterior\n",
        "def informe_cohete(destino, *minutes,  **fuel_reservoirs):\n",
        "    return f\"\"\"\n",
        "    Tiempo hasta el destino: {minutes[1]/60} horas\n",
        "    Hora Terrestre de llegada al destino: {sum(minutes)/60} horas\n",
        "    Tiempo añadido: {minutes[2]/60} horas\n",
        "    Combustible restante: {(sum(fuel_reservoirs.values())*100)/200} %\n",
        "    Destino: {destino}\n",
        "    \"\"\"\n",
        "print(informe_cohete(\"Luna\",12, 90, 40, t_ext=80, t_int=30))"
      ]
    },
    {
      "cell_type": "markdown",
      "metadata": {},
      "source": [
        "Debido a que el combustible que queda en los tanques es específico de cada tanque, actualiza la función para usar el nombre de cada tanque en el informe:"
      ]
    },
    {
      "cell_type": "code",
      "execution_count": 56,
      "metadata": {},
      "outputs": [
        {
          "name": "stdout",
          "output_type": "stream",
          "text": [
            "\n",
            "    Tiempo hasta el destino: 1.5 horas\n",
            "    Hora Terrestre de llegada al destino: 2.3666666666666667 horas\n",
            "    Tiempo añadido: 0.6666666666666666 horas\n",
            "    Combustible restante: 55.0 %\n",
            "    Destino: Luna\n",
            "    -------------------------------------------------------------------\n",
            "    Combustible en t_ext 80 % \n",
            "Combustible en t_int 30 % \n",
            "\n"
          ]
        }
      ],
      "source": [
        "# Escribe tu nueva función\n",
        "def informe_cohete(destino, *minutes,  **fuel_reservoirs):\n",
        "    reporte = f\"\"\"\n",
        "    Tiempo hasta el destino: {minutes[1]/60} horas\n",
        "    Hora Terrestre de llegada al destino: {sum(minutes)/60} horas\n",
        "    Tiempo añadido: {minutes[2]/60} horas\n",
        "    Combustible restante: {(sum(fuel_reservoirs.values())*100)/200} %\n",
        "    Destino: {destino}\n",
        "    -------------------------------------------------------------------\n",
        "    \"\"\"\n",
        "    for tanques, porcentaje in fuel_reservoirs.items():\n",
        "        reporte += f\"Combustible en {tanques} {porcentaje} % \\n\"\n",
        "    return reporte\n",
        "print(informe_cohete(\"Luna\",12, 90, 40, t_ext=80, t_int=30))"
      ]
    },
    {
      "cell_type": "markdown",
      "metadata": {},
      "source": [
        "## Soluciones"
      ]
    },
    {
      "cell_type": "markdown",
      "metadata": {},
      "source": [
        "## Ejercicio 1"
      ]
    },
    {
      "cell_type": "code",
      "execution_count": 3,
      "metadata": {},
      "outputs": [],
      "source": [
        "# Función para leer 3 tanques de combustible y muestre el promedio\n",
        "\n",
        "def generate_report(main_tank, external_tank, hydrogen_tank):\n",
        "    total_average = (main_tank + external_tank + hydrogen_tank) / 3\n",
        "    return f\"\"\"Fuel Report:\n",
        "    Total Average: {total_average}%\n",
        "    Main tank: {main_tank}%\n",
        "    External tank: {external_tank}%\n",
        "    Hydrogen tank: {hydrogen_tank}% \n",
        "    \"\"\"\n"
      ]
    },
    {
      "cell_type": "code",
      "execution_count": null,
      "metadata": {},
      "outputs": [],
      "source": [
        "# Llamamos a la función que genera el reporte print(funcion(tanque1, tanque2, tanque3))\n",
        "print(generate_report(80, 70, 85))"
      ]
    },
    {
      "cell_type": "code",
      "execution_count": null,
      "metadata": {},
      "outputs": [],
      "source": [
        "# Función promedio \n",
        "def average(values):\n",
        "    total = sum(values)\n",
        "    number_of_items = len(values)\n",
        "    return total / number_of_items\n",
        "\n",
        "# Test the averaging function with a list of integers:\n",
        "average([80, 85, 81]) "
      ]
    },
    {
      "cell_type": "code",
      "execution_count": null,
      "metadata": {},
      "outputs": [],
      "source": [
        "# Actualiza la función\n",
        "def generate_report(main_tank, external_tank, hydrogen_tank):\n",
        "    return f\"\"\"Fuel Report:\n",
        "    Total Average: {average([main_tank, external_tank, hydrogen_tank])}%\n",
        "    Main tank: {main_tank}%\n",
        "    External tank: {external_tank}%\n",
        "    Hydrogen tank: {hydrogen_tank}% \n",
        "    \"\"\"\n",
        "\n",
        "# Call the updated function again with different values\n",
        "print(generate_report(88, 76, 70))"
      ]
    },
    {
      "cell_type": "markdown",
      "metadata": {},
      "source": [
        "### Ejercicio 2:"
      ]
    },
    {
      "cell_type": "code",
      "execution_count": 43,
      "metadata": {},
      "outputs": [
        {
          "name": "stdout",
          "output_type": "stream",
          "text": [
            "\n",
            "    Mission to Moon\n",
            "    Total travel time: 65 minutes\n",
            "    Total fuel left: 500000 gallons\n",
            "    \n"
          ]
        }
      ],
      "source": [
        "# Función con un informe preciso de la misión. Considera hora de prelanzamiento, tiempo de vuelo, destino, tanque externo y tanque interno\n",
        "\n",
        "def mission_report(pre_launch_time, flight_time, destination, external_tank, main_tank):\n",
        "    return f\"\"\"\n",
        "    Mission to {destination}\n",
        "    Total travel time: {pre_launch_time + flight_time} minutes\n",
        "    Total fuel left: {external_tank + main_tank} gallons\n",
        "    \"\"\"\n",
        "\n",
        "print(mission_report(14, 51, \"Moon\", 200000, 300000))"
      ]
    },
    {
      "cell_type": "code",
      "execution_count": 44,
      "metadata": {},
      "outputs": [
        {
          "name": "stdout",
          "output_type": "stream",
          "text": [
            "\n",
            "    Mission to Moon\n",
            "    Total travel time: 76 minutes\n",
            "    Total fuel left: 500000\n",
            "    \n"
          ]
        }
      ],
      "source": [
        "# Escribe tu nueva función de reporte considerando lo anterior\n",
        "\n",
        "def mission_report(destination, *minutes, **fuel_reservoirs):\n",
        "    return f\"\"\"\n",
        "    Mission to {destination}\n",
        "    Total travel time: {sum(minutes)} minutes\n",
        "    Total fuel left: {sum(fuel_reservoirs.values())}\n",
        "    \"\"\"\n",
        "\n",
        "print(mission_report(\"Moon\", 10, 15, 51, main=300000, external=200000))"
      ]
    },
    {
      "cell_type": "code",
      "execution_count": null,
      "metadata": {},
      "outputs": [],
      "source": [
        "# Escribe tu nueva función\n",
        "\n",
        "def mission_report(destination, *minutes, **fuel_reservoirs):\n",
        "    main_report = f\"\"\"\n",
        "    Mission to {destination}\n",
        "    Total travel time: {sum(minutes)} minutes\n",
        "    Total fuel left: {sum(fuel_reservoirs.values())}\n",
        "    \"\"\"\n",
        "    for tank_name, gallons in fuel_reservoirs.items():\n",
        "        main_report += f\"{tank_name} tank --> {gallons} gallons left\\n\"\n",
        "    return main_report\n",
        "\n",
        "print(mission_report(\"Moon\", 8, 11, 55, main=300000, external=200000))"
      ]
    },
    {
      "cell_type": "markdown",
      "metadata": {},
      "source": [
        "---\n",
        "\n",
        "Curso Propedútico de Python para Launch X - Innovacción Virtual.\n",
        "\n",
        "Material desarrollado con base en los contenidos de MSLearn y la metáfora de LaunchX, traducción e implementación por: Fernanda Ochoa - Learning Producer de LaunchX.\n",
        "\n",
        "Redes:\n",
        "* GitHub: [FernandaOchoa](https://github.com/FernandaOchoa)\n",
        "* Twitter: [@imonsh](https://twitter.com/imonsh)\n",
        "* Instagram: [fherz8a](https://www.instagram.com/fherz8a/)"
      ]
    }
  ],
  "metadata": {
    "interpreter": {
      "hash": "205095b8b86ea82a021a8fc2ffba2b3bc9f8d0be25999901963b225939f75778"
    },
    "kernelspec": {
      "display_name": "Python 3.8.10 64-bit ('tmp': conda)",
      "name": "python3"
    },
    "language_info": {
      "codemirror_mode": {
        "name": "ipython",
        "version": 3
      },
      "file_extension": ".py",
      "mimetype": "text/x-python",
      "name": "python",
      "nbconvert_exporter": "python",
      "pygments_lexer": "ipython3",
      "version": "3.10.2"
    },
    "nteract": {
      "version": "nteract-front-end@1.0.0"
    },
    "orig_nbformat": 4
  },
  "nbformat": 4,
  "nbformat_minor": 2
}
